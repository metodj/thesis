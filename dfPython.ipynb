{
 "cells": [
  {
   "cell_type": "code",
   "execution_count": 33,
   "metadata": {
    "collapsed": false
   },
   "outputs": [],
   "source": [
    "import psycopg2, psycopg2.extensions, psycopg2.extras\n",
    "import numpy as np\n",
    "import matplotlib.pyplot as plt"
   ]
  },
  {
   "cell_type": "code",
   "execution_count": 87,
   "metadata": {
    "collapsed": false
   },
   "outputs": [
    {
     "name": "stdout",
     "output_type": "stream",
     "text": [
      "sgalea0\n"
     ]
    }
   ],
   "source": [
    "################\n",
    "#priklop na bazo\n",
    "psycopg2.extensions.register_type(psycopg2.extensions.UNICODE) # se znebimo problemov s sumniki\n",
    "baza = psycopg2.connect(database='sem2018_leonh', host='baza.fmf.uni-lj.si', user='javnost', password='javnogeslo')\n",
    "baza.set_isolation_level(psycopg2.extensions.ISOLATION_LEVEL_AUTOCOMMIT) # onemogocimo transakcije\n",
    "cur = baza.cursor(cursor_factory=psycopg2.extras.DictCursor)\n",
    "\n",
    "################\n",
    "#test priklopa na bazo\n",
    "def test(posta):\n",
    "    cur.execute('''\n",
    "                    SELECT * FROM uporabnik WHERE username=%s\n",
    "                ''', [posta])\n",
    "    return (cur.fetchall())\n",
    "\n",
    "print(test('sgalea0')[0][0])"
   ]
  },
  {
   "cell_type": "markdown",
   "metadata": {},
   "source": [
    "# Laplacov mehanizem za numerične podatke (perturbacije podatkovne baze)"
   ]
  },
  {
   "cell_type": "code",
   "execution_count": 78,
   "metadata": {
    "collapsed": false
   },
   "outputs": [],
   "source": [
    "#izracun diametra (preveri veljavnost!!)\n",
    "def diameter(data):\n",
    "    return max(abs(x[0] - x[1]) for x in zip(data[1:], data))"
   ]
  },
  {
   "cell_type": "code",
   "execution_count": 79,
   "metadata": {
    "collapsed": false
   },
   "outputs": [],
   "source": [
    "#baza = [1000, 2000, 3000, 1200, 500]  #tole so kao place\n",
    "baza = [1.6,1.92,2.02,1.78,1.80] #tole so kao visine\n",
    "\n",
    "epsilon = 2\n",
    "delta = 0.5\n",
    "b = diameter(baza)/(epsilon - np.log(1-delta))\n",
    "\n",
    "df_baza = map(lambda elem: elem + np.random.laplace(0,b), baza)"
   ]
  },
  {
   "cell_type": "code",
   "execution_count": 80,
   "metadata": {
    "collapsed": false
   },
   "outputs": [
    {
     "name": "stdout",
     "output_type": "stream",
     "text": [
      "[1.6, 1.92, 2.02, 1.78, 1.8]\n",
      "[1.5784841417392896, 1.8215399133391517, 1.8441473212623074, 1.8080402526096493, 1.7892614205679984]\n"
     ]
    }
   ],
   "source": [
    "print(baza)\n",
    "print(df_baza)"
   ]
  },
  {
   "cell_type": "code",
   "execution_count": 81,
   "metadata": {
    "collapsed": false
   },
   "outputs": [
    {
     "name": "stdout",
     "output_type": "stream",
     "text": [
      "1.824\n",
      "1.7682946099\n"
     ]
    }
   ],
   "source": [
    "print(sum(baza)/len(baza))\n",
    "print(sum(df_baza)/len(df_baza))"
   ]
  },
  {
   "cell_type": "markdown",
   "metadata": {},
   "source": [
    "# Primer funkcijskih podatkov - kernel density estimation"
   ]
  },
  {
   "cell_type": "code",
   "execution_count": 84,
   "metadata": {
    "collapsed": false
   },
   "outputs": [
    {
     "data": {
      "image/png": "[encoded data removed]",
      "text/plain": [
       "<matplotlib.figure.Figure at 0x1247ef98>"
      ]
     },
     "metadata": {},
     "output_type": "display_data"
    }
   ],
   "source": [
    "seznam = [numpy.random.normal(0.3,0.5) for _ in range(100)] #+ [numpy.random.normal(0.7,1) for _ in range(50)]\n",
    "\n",
    "def tmp(x,):\n",
    "    return x\n",
    "\n",
    "def f(x, h=0.1,d=1):\n",
    "    return (1/(len(seznam)*(2*np.pi*h**2)**(d*0.5)))*sum(map(lambda elem: np.exp(-((elem-x)**2)/(2*h**2)),seznam))\n",
    "\n",
    "f(0.3)\n",
    "\n",
    "t1 = np.arange(0, 1,0.001)\n",
    "\n",
    "plt.plot(t1, f(t1), 'k')\n",
    "\n",
    "plt.show()"
   ]
  },
  {
   "cell_type": "code",
   "execution_count": 75,
   "metadata": {
    "collapsed": false
   },
   "outputs": [
    {
     "name": "stdout",
     "output_type": "stream",
     "text": [
      "[2.2995011027979304, -1.6692570326003957]\n",
      "[1.9211517864265509e-96, 1.3369279017133246e-76]\n"
     ]
    }
   ],
   "source": [
    "print(seznam[:2])\n",
    "print(map(lambda elem: np.exp(-((elem-0.2)**2)/(2*h**2)),seznam)[:2])"
   ]
  },
  {
   "cell_type": "code",
   "execution_count": 63,
   "metadata": {
    "collapsed": false
   },
   "outputs": [
    {
     "data": {
      "text/plain": [
       "5.2554870187714282e-20"
      ]
     },
     "execution_count": 63,
     "metadata": {},
     "output_type": "execute_result"
    }
   ],
   "source": [
    "np.exp(-((seznam[0]-0.2)**2)/(2*h**2))"
   ]
  },
  {
   "cell_type": "markdown",
   "metadata": {},
   "source": [
    "# Delovna verzija"
   ]
  },
  {
   "cell_type": "code",
   "execution_count": 56,
   "metadata": {
    "collapsed": false
   },
   "outputs": [
    {
     "data": {
      "image/png": "[encoded data removed]",
      "text/plain": [
       "<matplotlib.figure.Figure at 0x7ef9780>"
      ]
     },
     "metadata": {},
     "output_type": "display_data"
    }
   ],
   "source": [
    "import numpy as np\n",
    "import matplotlib.pyplot as plt\n",
    "\n",
    "def f(x):\n",
    "    return np.exp(-abs(x)/b) / (2*b)\n",
    "\n",
    "t1 = np.arange(-10, 10.0, 0.001)\n",
    "\n",
    "\n",
    "plt.figure(1)\n",
    "plt.subplot(211)\n",
    "plt.plot(t1, f(t1), 'k')\n",
    "\n",
    "plt.show()"
   ]
  },
  {
   "cell_type": "code",
   "execution_count": null,
   "metadata": {
    "collapsed": true
   },
   "outputs": [],
   "source": []
  },
  {
   "cell_type": "code",
   "execution_count": null,
   "metadata": {
    "collapsed": true
   },
   "outputs": [],
   "source": []
  }
 ],
 "metadata": {
  "kernelspec": {
   "display_name": "Python 2",
   "language": "python",
   "name": "python2"
  },
  "language_info": {
   "codemirror_mode": {
    "name": "ipython",
    "version": 2
   },
   "file_extension": ".py",
   "mimetype": "text/x-python",
   "name": "python",
   "nbconvert_exporter": "python",
   "pygments_lexer": "ipython2",
   "version": "2.7.13"
  }
 },
 "nbformat": 4,
 "nbformat_minor": 2
}
