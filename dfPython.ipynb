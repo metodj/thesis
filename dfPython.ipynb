{
 "cells": [
  {
   "cell_type": "code",
   "execution_count": 1,
   "metadata": {
    "collapsed": false
   },
   "outputs": [],
   "source": [
    "import psycopg2, psycopg2.extensions, psycopg2.extras\n",
    "import numpy as np\n",
    "import matplotlib.pyplot as plt\n",
    "import pandas as pd\n",
    "import random\n",
    "\n",
    "%matplotlib inline"
   ]
  },
  {
   "cell_type": "markdown",
   "metadata": {},
   "source": [
    "# Uvoz podatkov"
   ]
  },
  {
   "cell_type": "markdown",
   "metadata": {},
   "source": [
    "Priklopimo se na SQL bazo in naredimo data-preprocessing."
   ]
  },
  {
   "cell_type": "code",
   "execution_count": 2,
   "metadata": {
    "collapsed": false
   },
   "outputs": [],
   "source": [
    "################\n",
    "#priklop na bazo\n",
    "psycopg2.extensions.register_type(psycopg2.extensions.UNICODE) # se znebimo problemov s sumniki\n",
    "baza = psycopg2.connect(database='sem2018_metodj', host='baza.fmf.uni-lj.si', user='metodj', password='gilbertarenas0')\n",
    "baza.set_isolation_level(psycopg2.extensions.ISOLATION_LEVEL_AUTOCOMMIT) \n",
    "cur = baza.cursor(cursor_factory=psycopg2.extras.DictCursor)\n",
    "\n",
    "################\n",
    "#test priklopa na bazo\n",
    "def test(tmp):\n",
    "    cur.execute('''\n",
    "                    SELECT * FROM dftest \n",
    "                ''', [tmp])\n",
    "    return (cur.fetchall())\n",
    "\n",
    "#print(test('')[0])"
   ]
  },
  {
   "cell_type": "code",
   "execution_count": 3,
   "metadata": {
    "collapsed": false
   },
   "outputs": [
    {
     "data": {
      "text/html": [
       "<div>\n",
       "<style>\n",
       "    .dataframe thead tr:only-child th {\n",
       "        text-align: right;\n",
       "    }\n",
       "\n",
       "    .dataframe thead th {\n",
       "        text-align: left;\n",
       "    }\n",
       "\n",
       "    .dataframe tbody tr th {\n",
       "        vertical-align: top;\n",
       "    }\n",
       "</style>\n",
       "<table border=\"1\" class=\"dataframe\">\n",
       "  <thead>\n",
       "    <tr style=\"text-align: right;\">\n",
       "      <th></th>\n",
       "      <th>ime</th>\n",
       "      <th>plača</th>\n",
       "      <th>spol</th>\n",
       "      <th>višina</th>\n",
       "      <th>zveznaDržava</th>\n",
       "    </tr>\n",
       "  </thead>\n",
       "  <tbody>\n",
       "    <tr>\n",
       "      <th>0</th>\n",
       "      <td>Montague Goard</td>\n",
       "      <td>3650</td>\n",
       "      <td>M</td>\n",
       "      <td>1.73</td>\n",
       "      <td>TX</td>\n",
       "    </tr>\n",
       "    <tr>\n",
       "      <th>1</th>\n",
       "      <td>Danica Di Biaggi</td>\n",
       "      <td>4207</td>\n",
       "      <td>Ž</td>\n",
       "      <td>1.46</td>\n",
       "      <td>SC</td>\n",
       "    </tr>\n",
       "    <tr>\n",
       "      <th>2</th>\n",
       "      <td>Patsy Byre</td>\n",
       "      <td>3608</td>\n",
       "      <td>Ž</td>\n",
       "      <td>1.76</td>\n",
       "      <td>NV</td>\n",
       "    </tr>\n",
       "    <tr>\n",
       "      <th>3</th>\n",
       "      <td>Tobit Rolling</td>\n",
       "      <td>3490</td>\n",
       "      <td>M</td>\n",
       "      <td>1.74</td>\n",
       "      <td>OR</td>\n",
       "    </tr>\n",
       "    <tr>\n",
       "      <th>4</th>\n",
       "      <td>Herculie Dally</td>\n",
       "      <td>2294</td>\n",
       "      <td>M</td>\n",
       "      <td>1.89</td>\n",
       "      <td>MN</td>\n",
       "    </tr>\n",
       "  </tbody>\n",
       "</table>\n",
       "</div>"
      ],
      "text/plain": [
       "                ime  plača spol  višina zveznaDržava\n",
       "0    Montague Goard   3650    M    1.73           TX\n",
       "1  Danica Di Biaggi   4207    Ž    1.46           SC\n",
       "2        Patsy Byre   3608    Ž    1.76           NV\n",
       "3     Tobit Rolling   3490    M    1.74           OR\n",
       "4    Herculie Dally   2294    M    1.89           MN"
      ]
     },
     "execution_count": 3,
     "metadata": {},
     "output_type": "execute_result"
    }
   ],
   "source": [
    "################\n",
    "#preprocessing\n",
    "data = test('')\n",
    "baza = []\n",
    "for i in range(len(data)):\n",
    "    tmp = dict()\n",
    "    tmp['ime'] = data[i][0]\n",
    "    tmp['spol'] =  data[i][1]\n",
    "    tmp['zveznaDržava'] = data[i][2]\n",
    "    tmp['višina'] = float(data[i][3])\n",
    "    tmp['plača'] = data[i][4]\n",
    "    baza.append(tmp)\n",
    "\n",
    "data = pd.DataFrame(baza)\n",
    "data['spol'] = np.where(data['spol']=='Male', 'M', 'Ž')\n",
    "data.head()"
   ]
  },
  {
   "cell_type": "markdown",
   "metadata": {},
   "source": [
    "Gre za umetno zgenerirane podatke. Za generiranje numeričnih podatkov so bile uporabljene naslednje porazdelitve:\n",
    "\n",
    "Plača: 1500-4500 (enakomerno porazdeljeno)\n",
    "\n",
    "Višina: N(1.74, 0.14) (normalno porazdeljeno)"
   ]
  },
  {
   "cell_type": "markdown",
   "metadata": {},
   "source": [
    "# Laplacov mehanizem za numerične podatke "
   ]
  },
  {
   "cell_type": "markdown",
   "metadata": {},
   "source": [
    "Gre za mehanizem iz primera 4.9 "
   ]
  },
  {
   "cell_type": "code",
   "execution_count": 185,
   "metadata": {
    "collapsed": false
   },
   "outputs": [],
   "source": [
    "#izracun diametra\n",
    "def diameter(data):\n",
    "    return max(data) - min(data)"
   ]
  },
  {
   "cell_type": "code",
   "execution_count": 193,
   "metadata": {
    "collapsed": false
   },
   "outputs": [],
   "source": [
    "#nastavi 'plača' ali 'višina'\n",
    "podatki= list(float(i) for i in data['plača'])\n",
    "epsilon = 2\n",
    "delta = 0.5\n",
    "b = diameter(podatki)/(epsilon - np.log(1-delta))\n",
    "\n",
    "df_podatki = map(lambda elem: round(elem + np.random.laplace(0,b),2), podatki) #na tem mestu podatkom dodamo Laplacov šum"
   ]
  },
  {
   "cell_type": "code",
   "execution_count": 194,
   "metadata": {
    "collapsed": false
   },
   "outputs": [
    {
     "name": "stdout",
     "output_type": "stream",
     "text": [
      "Diam(D): 2996.0\n",
      "Parameter b Laplacove porazdelitve: 1112.45312608\n"
     ]
    },
    {
     "data": {
      "text/html": [
       "<div>\n",
       "<style>\n",
       "    .dataframe thead tr:only-child th {\n",
       "        text-align: right;\n",
       "    }\n",
       "\n",
       "    .dataframe thead th {\n",
       "        text-align: left;\n",
       "    }\n",
       "\n",
       "    .dataframe tbody tr th {\n",
       "        vertical-align: top;\n",
       "    }\n",
       "</style>\n",
       "<table border=\"1\" class=\"dataframe\">\n",
       "  <thead>\n",
       "    <tr style=\"text-align: right;\">\n",
       "      <th></th>\n",
       "      <th>podatki</th>\n",
       "      <th>zasebni podatki</th>\n",
       "      <th>razlika</th>\n",
       "    </tr>\n",
       "  </thead>\n",
       "  <tbody>\n",
       "    <tr>\n",
       "      <th>0</th>\n",
       "      <td>3650.0</td>\n",
       "      <td>3212.88</td>\n",
       "      <td>437.12</td>\n",
       "    </tr>\n",
       "    <tr>\n",
       "      <th>1</th>\n",
       "      <td>4207.0</td>\n",
       "      <td>4451.85</td>\n",
       "      <td>244.85</td>\n",
       "    </tr>\n",
       "    <tr>\n",
       "      <th>2</th>\n",
       "      <td>3608.0</td>\n",
       "      <td>2780.66</td>\n",
       "      <td>827.34</td>\n",
       "    </tr>\n",
       "    <tr>\n",
       "      <th>3</th>\n",
       "      <td>3490.0</td>\n",
       "      <td>1623.39</td>\n",
       "      <td>1866.61</td>\n",
       "    </tr>\n",
       "    <tr>\n",
       "      <th>4</th>\n",
       "      <td>2294.0</td>\n",
       "      <td>3720.33</td>\n",
       "      <td>1426.33</td>\n",
       "    </tr>\n",
       "    <tr>\n",
       "      <th>5</th>\n",
       "      <td>3734.0</td>\n",
       "      <td>2170.02</td>\n",
       "      <td>1563.98</td>\n",
       "    </tr>\n",
       "    <tr>\n",
       "      <th>6</th>\n",
       "      <td>2128.0</td>\n",
       "      <td>3000.58</td>\n",
       "      <td>872.58</td>\n",
       "    </tr>\n",
       "    <tr>\n",
       "      <th>7</th>\n",
       "      <td>2215.0</td>\n",
       "      <td>4427.01</td>\n",
       "      <td>2212.01</td>\n",
       "    </tr>\n",
       "    <tr>\n",
       "      <th>8</th>\n",
       "      <td>3563.0</td>\n",
       "      <td>4641.61</td>\n",
       "      <td>1078.61</td>\n",
       "    </tr>\n",
       "    <tr>\n",
       "      <th>9</th>\n",
       "      <td>3921.0</td>\n",
       "      <td>5595.60</td>\n",
       "      <td>1674.60</td>\n",
       "    </tr>\n",
       "  </tbody>\n",
       "</table>\n",
       "</div>"
      ],
      "text/plain": [
       "   podatki  zasebni podatki  razlika\n",
       "0   3650.0          3212.88   437.12\n",
       "1   4207.0          4451.85   244.85\n",
       "2   3608.0          2780.66   827.34\n",
       "3   3490.0          1623.39  1866.61\n",
       "4   2294.0          3720.33  1426.33\n",
       "5   3734.0          2170.02  1563.98\n",
       "6   2128.0          3000.58   872.58\n",
       "7   2215.0          4427.01  2212.01\n",
       "8   3563.0          4641.61  1078.61\n",
       "9   3921.0          5595.60  1674.60"
      ]
     },
     "execution_count": 194,
     "metadata": {},
     "output_type": "execute_result"
    }
   ],
   "source": [
    "#osnovna primerjava\n",
    "print(\"Diam(D): \" + str(diameter(podatki)))\n",
    "print(\"Parameter b Laplacove porazdelitve: \" + str(b))\n",
    "\n",
    "rezultat = pd.DataFrame({\"podatki\": podatki, \"zasebni podatki\": df_podatki})\n",
    "rezultat['razlika'] = abs(rezultat[\"podatki\"] - rezultat[\"zasebni podatki\"])\n",
    "rezultat.head(n=10)"
   ]
  },
  {
   "cell_type": "code",
   "execution_count": 188,
   "metadata": {
    "collapsed": false
   },
   "outputs": [
    {
     "name": "stdout",
     "output_type": "stream",
     "text": [
      "Povprečje originalni podatki: 2995.072\n",
      "Povprečje zasebni podatki: 2993.98731\n",
      "Minimum in maximum originalni podatki: (1504.0,4500.0)\n",
      "Minimum in maximum originalni podatki: (894.74,5196.07)\n",
      "Povprečna razlika: 239.81989\n"
     ]
    }
   ],
   "source": [
    "#poračunanih nekaj osnovnih statistik za primerjavo\n",
    "print(\"Povprečje originalni podatki: \" + str(sum(podatki)/len(podatki)))\n",
    "print(\"Povprečje zasebni podatki: \" + str(sum(df_podatki)/len(df_podatki)))\n",
    "print(\"Minimum in maximum originalni podatki: \" + \"(\" + str(min(podatki)) + \",\" + str(max(podatki)) + \")\")\n",
    "print(\"Minimum in maximum originalni podatki: \" + \"(\" + str(min(df_podatki)) + \",\" + str(max(df_podatki)) + \")\")\n",
    "print(\"Povprečna razlika: \" + str(rezultat['razlika'].mean()))"
   ]
  },
  {
   "cell_type": "markdown",
   "metadata": {},
   "source": [
    "Spodnja meja za največjo napako (izrek 5.3)"
   ]
  },
  {
   "cell_type": "code",
   "execution_count": 195,
   "metadata": {
    "collapsed": false
   },
   "outputs": [
    {
     "name": "stdout",
     "output_type": "stream",
     "text": [
      "Spodnja meja za največjo napako iz izreka 5.3: 89.2829885946\n",
      "Dejanska največja napaka: 7203.79\n"
     ]
    }
   ],
   "source": [
    "spodnja_meja = (1-delta)*diameter(podatki)/(2*(1+np.exp(epsilon)))\n",
    "print(\"Spodnja meja za največjo napako iz izreka 5.3: \" + str(spodnja_meja))\n",
    "print(\"Dejanska največja napaka: \" + str(rezultat[\"razlika\"].max()))"
   ]
  },
  {
   "cell_type": "code",
   "execution_count": 111,
   "metadata": {
    "collapsed": false
   },
   "outputs": [
    {
     "data": {
      "image/png": "[encoded data removed]",
      "text/plain": [
       "<matplotlib.figure.Figure at 0xb845c50>"
      ]
     },
     "metadata": {},
     "output_type": "display_data"
    }
   ],
   "source": [
    "plt.hist(podatki, normed=True, bins=20);"
   ]
  },
  {
   "cell_type": "code",
   "execution_count": 112,
   "metadata": {
    "collapsed": false
   },
   "outputs": [
    {
     "data": {
      "image/png": "[encoded data removed]",
      "text/plain": [
       "<matplotlib.figure.Figure at 0xba61a58>"
      ]
     },
     "metadata": {},
     "output_type": "display_data"
    }
   ],
   "source": [
    "plt.hist(df_podatki, normed=True, bins=20);"
   ]
  },
  {
   "cell_type": "markdown",
   "metadata": {},
   "source": [
    "# Mehanizem za diskretne podatke"
   ]
  },
  {
   "cell_type": "markdown",
   "metadata": {},
   "source": [
    "Gre za mehanizem iz primera 4.10"
   ]
  },
  {
   "cell_type": "code",
   "execution_count": 80,
   "metadata": {
    "collapsed": true
   },
   "outputs": [],
   "source": [
    "epsilon2 = 7\n",
    "delta2 = 0.6"
   ]
  },
  {
   "cell_type": "code",
   "execution_count": 81,
   "metadata": {
    "collapsed": false
   },
   "outputs": [
    {
     "name": "stdout",
     "output_type": "stream",
     "text": [
      "Verjetnost s katero podamo pravi odgovor: 0.983561162195\n",
      "Verjetnost vsakega izmed preostalih m nepravilnih odgovorov: 0.000349762506493\n"
     ]
    }
   ],
   "source": [
    "#zvezne države\n",
    "\n",
    "m = 47 # |D| = 48, torej imamo v bazi 48 različnih zveznih držav\n",
    "p = (1 - delta2) / (m + np.exp(epsilon2))\n",
    "\n",
    "print(\"Verjetnost s katero podamo pravi odgovor: \" + str(1-p*m))\n",
    "print(\"Verjetnost vsakega izmed preostalih m nepravilnih odgovorov: \" + str(p))\n",
    "\n",
    "\n",
    "drzave = list(str(i) for i in data['zveznaDržava'])\n",
    "seznam_drzav = list(set(drzave))\n",
    "\n",
    "df_drzave = []\n",
    "for i in range(len(drzave)):\n",
    "    if np.random.uniform(0,1) < (1-p*m):\n",
    "        df_drzave.append(drzave[i])\n",
    "    else:\n",
    "        tmp = list(seznam_drzav)\n",
    "        tmp.remove(drzave[i])\n",
    "        df_drzave.append(random.choice(tmp))"
   ]
  },
  {
   "cell_type": "code",
   "execution_count": 82,
   "metadata": {
    "collapsed": false
   },
   "outputs": [
    {
     "data": {
      "text/html": [
       "<div>\n",
       "<style>\n",
       "    .dataframe thead tr:only-child th {\n",
       "        text-align: right;\n",
       "    }\n",
       "\n",
       "    .dataframe thead th {\n",
       "        text-align: left;\n",
       "    }\n",
       "\n",
       "    .dataframe tbody tr th {\n",
       "        vertical-align: top;\n",
       "    }\n",
       "</style>\n",
       "<table border=\"1\" class=\"dataframe\">\n",
       "  <thead>\n",
       "    <tr style=\"text-align: right;\">\n",
       "      <th></th>\n",
       "      <th>podatki</th>\n",
       "      <th>zasebni podatki</th>\n",
       "      <th>ujemanje</th>\n",
       "    </tr>\n",
       "  </thead>\n",
       "  <tbody>\n",
       "    <tr>\n",
       "      <th>0</th>\n",
       "      <td>TX</td>\n",
       "      <td>TX</td>\n",
       "      <td>1</td>\n",
       "    </tr>\n",
       "    <tr>\n",
       "      <th>1</th>\n",
       "      <td>SC</td>\n",
       "      <td>SC</td>\n",
       "      <td>1</td>\n",
       "    </tr>\n",
       "    <tr>\n",
       "      <th>2</th>\n",
       "      <td>NV</td>\n",
       "      <td>NV</td>\n",
       "      <td>1</td>\n",
       "    </tr>\n",
       "    <tr>\n",
       "      <th>3</th>\n",
       "      <td>OR</td>\n",
       "      <td>OR</td>\n",
       "      <td>1</td>\n",
       "    </tr>\n",
       "    <tr>\n",
       "      <th>4</th>\n",
       "      <td>MN</td>\n",
       "      <td>MN</td>\n",
       "      <td>1</td>\n",
       "    </tr>\n",
       "    <tr>\n",
       "      <th>5</th>\n",
       "      <td>MO</td>\n",
       "      <td>MO</td>\n",
       "      <td>1</td>\n",
       "    </tr>\n",
       "    <tr>\n",
       "      <th>6</th>\n",
       "      <td>WA</td>\n",
       "      <td>WA</td>\n",
       "      <td>1</td>\n",
       "    </tr>\n",
       "    <tr>\n",
       "      <th>7</th>\n",
       "      <td>NC</td>\n",
       "      <td>NC</td>\n",
       "      <td>1</td>\n",
       "    </tr>\n",
       "    <tr>\n",
       "      <th>8</th>\n",
       "      <td>UT</td>\n",
       "      <td>UT</td>\n",
       "      <td>1</td>\n",
       "    </tr>\n",
       "    <tr>\n",
       "      <th>9</th>\n",
       "      <td>MN</td>\n",
       "      <td>MN</td>\n",
       "      <td>1</td>\n",
       "    </tr>\n",
       "  </tbody>\n",
       "</table>\n",
       "</div>"
      ],
      "text/plain": [
       "  podatki zasebni podatki  ujemanje\n",
       "0      TX              TX         1\n",
       "1      SC              SC         1\n",
       "2      NV              NV         1\n",
       "3      OR              OR         1\n",
       "4      MN              MN         1\n",
       "5      MO              MO         1\n",
       "6      WA              WA         1\n",
       "7      NC              NC         1\n",
       "8      UT              UT         1\n",
       "9      MN              MN         1"
      ]
     },
     "execution_count": 82,
     "metadata": {},
     "output_type": "execute_result"
    }
   ],
   "source": [
    "#osnovna primerjava\n",
    "rezultat = pd.DataFrame({\"podatki\": drzave, \"zasebni podatki\": df_drzave})\n",
    "rezultat['ujemanje'] = np.where(rezultat[\"podatki\"] == rezultat[\"zasebni podatki\"], 1 ,0)\n",
    "rezultat.head(n=10)"
   ]
  },
  {
   "cell_type": "code",
   "execution_count": 83,
   "metadata": {
    "collapsed": false
   },
   "outputs": [
    {
     "data": {
      "text/plain": [
       "[('RI', 1),\n",
       " ('DE', 2),\n",
       " ('WY', 2),\n",
       " ('ID', 2),\n",
       " ('SD', 2),\n",
       " ('ND', 3),\n",
       " ('MT', 3),\n",
       " ('HI', 4),\n",
       " ('NE', 4),\n",
       " ('AR', 4),\n",
       " ('NM', 5),\n",
       " ('MS', 5),\n",
       " ('KS', 6),\n",
       " ('AK', 7),\n",
       " ('CT', 7),\n",
       " ('UT', 7),\n",
       " ('MA', 8),\n",
       " ('OR', 8),\n",
       " ('IA', 10),\n",
       " ('MD', 10),\n",
       " ('WV', 11),\n",
       " ('SC', 11),\n",
       " ('KY', 11),\n",
       " ('NJ', 12),\n",
       " ('WI', 13),\n",
       " ('WA', 18),\n",
       " ('AL', 18),\n",
       " ('NV', 19),\n",
       " ('OK', 19),\n",
       " ('AZ', 19),\n",
       " ('MN', 19),\n",
       " ('CO', 22),\n",
       " ('IN', 22),\n",
       " ('TN', 23),\n",
       " ('MI', 23),\n",
       " ('LA', 24),\n",
       " ('MO', 25),\n",
       " ('DC', 28),\n",
       " ('GA', 28),\n",
       " ('IL', 34),\n",
       " ('NC', 35),\n",
       " ('OH', 35),\n",
       " ('VA', 44),\n",
       " ('PA', 46),\n",
       " ('FL', 62),\n",
       " ('NY', 63),\n",
       " ('CA', 102),\n",
       " ('TX', 114)]"
      ]
     },
     "execution_count": 83,
     "metadata": {},
     "output_type": "execute_result"
    }
   ],
   "source": [
    "tmp = []\n",
    "for state in set(list(rezultat['podatki'])):\n",
    "    tmp.append((state, list(rezultat['podatki']).count(state)))\n",
    "    tmp = sorted(tmp, key=lambda x: x[1])\n",
    "tmp"
   ]
  },
  {
   "cell_type": "code",
   "execution_count": 84,
   "metadata": {
    "collapsed": false
   },
   "outputs": [
    {
     "name": "stdout",
     "output_type": "stream",
     "text": [
      "TX\n",
      "TX\n"
     ]
    }
   ],
   "source": [
    "#poračunanih nekaj osnovnih statistik za primerjavo\n",
    "def most_common(lst):\n",
    "    return max(set(lst), key=lst.count)\n",
    "\n",
    "print(most_common(drzave))\n",
    "print(most_common(df_drzave))"
   ]
  },
  {
   "cell_type": "markdown",
   "metadata": {},
   "source": [
    "Spodnja meja za največjo napako (izrek 5.4)"
   ]
  },
  {
   "cell_type": "code",
   "execution_count": 85,
   "metadata": {
    "collapsed": false
   },
   "outputs": [
    {
     "data": {
      "text/plain": [
       "0.016438837805152762"
      ]
     },
     "execution_count": 85,
     "metadata": {},
     "output_type": "execute_result"
    }
   ],
   "source": [
    "spodnja_meja = (1-delta2)*m/(m+np.exp(epsilon2))\n",
    "spodnja_meja"
   ]
  },
  {
   "cell_type": "code",
   "execution_count": 86,
   "metadata": {
    "collapsed": false
   },
   "outputs": [
    {
     "data": {
      "text/plain": [
       "18"
      ]
     },
     "execution_count": 86,
     "metadata": {},
     "output_type": "execute_result"
    }
   ],
   "source": [
    "1000 - sum(rezultat['ujemanje'])"
   ]
  },
  {
   "cell_type": "code",
   "execution_count": 150,
   "metadata": {
    "collapsed": false
   },
   "outputs": [
    {
     "name": "stdout",
     "output_type": "stream",
     "text": [
      "0.0237129365888\n",
      "0.976287063411\n"
     ]
    }
   ],
   "source": [
    "#spol (enostaven primer, naš odzivni mehanizem bo kar Bernoullijeva slučanja spremenljivka)\n",
    "\n",
    "m = 1 # |D| = 2, moški in ženski spol\n",
    "p = (1 - delta2) / (m + np.exp(epsilon2))\n",
    "\n",
    "print(p)\n",
    "print(1-p*m)"
   ]
  },
  {
   "cell_type": "code",
   "execution_count": 151,
   "metadata": {
    "collapsed": false
   },
   "outputs": [
    {
     "data": {
      "text/plain": [
       "0.023712936588783391"
      ]
     },
     "execution_count": 151,
     "metadata": {},
     "output_type": "execute_result"
    }
   ],
   "source": [
    "spodnja_meja = (1-delta2)*m/(m+np.exp(epsilon2))\n",
    "spodnja_meja"
   ]
  },
  {
   "cell_type": "markdown",
   "metadata": {},
   "source": [
    "# Primer funkcijskih podatkov - kernel density estimation"
   ]
  },
  {
   "cell_type": "code",
   "execution_count": 88,
   "metadata": {
    "collapsed": true
   },
   "outputs": [],
   "source": [
    "seznam = np.concatenate([np.random.normal(1, 1, [100]), np.random.normal(5, 1, [100])])"
   ]
  },
  {
   "cell_type": "code",
   "execution_count": 102,
   "metadata": {
    "collapsed": false
   },
   "outputs": [
    {
     "name": "stderr",
     "output_type": "stream",
     "text": [
      "C:\\Users\\Uporabnik\\Anaconda2\\lib\\site-packages\\ipykernel\\__main__.py:16: RuntimeWarning: covariance is not positive-semidefinite.\n"
     ]
    },
    {
     "data": {
      "image/png": "[encoded data removed]",
      "text/plain": [
       "<matplotlib.figure.Figure at 0xb4b1ba8>"
      ]
     },
     "metadata": {},
     "output_type": "display_data"
    }
   ],
   "source": [
    "def f(x, h=0.6,d=1):\n",
    "    return (1/(len(seznam)*(2*np.pi*h**2)**(d*0.5)))*sum(map(lambda elem: np.exp(-((elem-x)**2)/(2*h**2)),seznam))\n",
    "\n",
    "def koef (epsilon, delta, n , d, h):\n",
    "    return np.sqrt(np.log(2/delta))*(1/(epsilon*n*(2*np.pi*h**2)**(d/2)))\n",
    "\n",
    "def gaussKernel(x,y,h):\n",
    "    return np.exp(-((x-y)**2)/(2*h**2))\n",
    "\n",
    "def gaussProcess(from_index, to_index, h, start, m):\n",
    "    t = np.linspace(from_index, to_index, m)\n",
    "    sigma = np.zeros((m,m))\n",
    "    for i in range(m):\n",
    "        for j in range(m):\n",
    "            sigma[i][j] = gaussKernel(t[i],t[j],h)\n",
    "    trajektorija = np.random.multivariate_normal(np.zeros(m),sigma)\n",
    "    final = [x - trajektorija[0] + start for x in trajektorija]\n",
    "    return final\n",
    "\n",
    "def sigma(from_index, to_index, h, start, m):\n",
    "    t = np.linspace(from_index, to_index, m)\n",
    "    sigma = np.zeros((m,m))\n",
    "    for i in range(m):\n",
    "        for j in range(m):\n",
    "            sigma[i][j] = gaussKernel(t[i],t[j],h)\n",
    "    return sigma\n",
    "\n",
    "t1 = np.arange(-1, 7,0.01)\n",
    "\n",
    "tocke_gauss = gaussProcess(-1,7,0.6,0,800)\n",
    "tocke = map(lambda elem: f(elem),list(t1))\n",
    "koeficient = koef(1,0.1,200,1,0.6)\n",
    "tocke_final = [x+koeficient*y for x,y in zip(tocke, tocke_gauss)]\n",
    "\n",
    "\n",
    "\n",
    "plt.plot(t1, f(t1), 'k')\n",
    "plt.plot(t1, tocke_final, 'b')\n",
    "\n",
    "plt.show()"
   ]
  },
  {
   "cell_type": "code",
   "execution_count": 15,
   "metadata": {
    "collapsed": false
   },
   "outputs": [
    {
     "data": {
      "text/plain": [
       "[array([ 1.1625454 ,  1.1424858 ,  1.11087444,  1.07028458,  1.02401591,\n",
       "         0.97582355,  0.83763041,  0.85761047,  0.88911766,  0.92961178]),\n",
       " array([[-0.12018197, -0.23061552, -0.32234578,  0.3879395 ,  0.42208784,\n",
       "          0.42203483,  0.12008025,  0.23044437,  0.32215954,  0.3877973 ],\n",
       "        [-0.23055678, -0.38788731, -0.42202833,  0.32214728,  0.11997389,\n",
       "         -0.12028849, -0.23050314, -0.38784935, -0.42209423, -0.32235819],\n",
       "        [-0.32225733, -0.42203268, -0.23044701, -0.12023096, -0.38791363,\n",
       "         -0.38782301,  0.32224805,  0.42208994,  0.2306132 , -0.12003118],\n",
       "        [-0.38785613, -0.32221282,  0.12017792, -0.4220607 , -0.23046945,\n",
       "          0.23059057, -0.38788067, -0.32229269,  0.12008427,  0.42206178],\n",
       "        [-0.42203992, -0.12011342,  0.38786174, -0.23050674,  0.32226538,\n",
       "          0.32223995,  0.42208271,  0.12014897, -0.387875  , -0.2305533 ],\n",
       "        [-0.42203992,  0.12011342,  0.38786174,  0.23050674,  0.32226538,\n",
       "         -0.32223995, -0.42208271,  0.12014897,  0.387875  , -0.2305533 ],\n",
       "        [-0.38785613,  0.32221282,  0.12017792,  0.4220607 , -0.23046945,\n",
       "         -0.23059057,  0.38788067, -0.32229269, -0.12008427,  0.42206178],\n",
       "        [-0.32225733,  0.42203268, -0.23044701,  0.12023096, -0.38791363,\n",
       "          0.38782301, -0.32224805,  0.42208994, -0.2306132 , -0.12003118],\n",
       "        [-0.23055678,  0.38788731, -0.42202833, -0.32214728,  0.11997389,\n",
       "          0.12028849,  0.23050314, -0.38784935,  0.42209423, -0.32235819],\n",
       "        [-0.12018197,  0.23061552, -0.32234578, -0.3879395 ,  0.42208784,\n",
       "         -0.42203483, -0.12008025,  0.23044437, -0.32215954,  0.3877973 ]])]"
      ]
     },
     "execution_count": 15,
     "metadata": {},
     "output_type": "execute_result"
    }
   ],
   "source": [
    "tmp = sigma(0,1,0.05,0,10)\n",
    "list(np.linalg.eig(tmp))"
   ]
  },
  {
   "cell_type": "code",
   "execution_count": 16,
   "metadata": {
    "collapsed": false
   },
   "outputs": [
    {
     "data": {
      "text/plain": [
       "array([[  1.00000000e+00,   8.46579886e-02,   5.13655312e-05,\n",
       "          2.23363144e-10,   6.96124846e-18,   1.55488634e-27,\n",
       "          2.48912125e-39,   2.85581026e-53,   2.34827275e-69,\n",
       "          1.38389653e-87],\n",
       "       [  8.46579886e-02,   1.00000000e+00,   8.46579886e-02,\n",
       "          5.13655312e-05,   2.23363144e-10,   6.96124846e-18,\n",
       "          1.55488634e-27,   2.48912125e-39,   2.85581026e-53,\n",
       "          2.34827275e-69],\n",
       "       [  5.13655312e-05,   8.46579886e-02,   1.00000000e+00,\n",
       "          8.46579886e-02,   5.13655312e-05,   2.23363144e-10,\n",
       "          6.96124846e-18,   1.55488634e-27,   2.48912125e-39,\n",
       "          2.85581026e-53],\n",
       "       [  2.23363144e-10,   5.13655312e-05,   8.46579886e-02,\n",
       "          1.00000000e+00,   8.46579886e-02,   5.13655312e-05,\n",
       "          2.23363144e-10,   6.96124846e-18,   1.55488634e-27,\n",
       "          2.48912125e-39],\n",
       "       [  6.96124846e-18,   2.23363144e-10,   5.13655312e-05,\n",
       "          8.46579886e-02,   1.00000000e+00,   8.46579886e-02,\n",
       "          5.13655312e-05,   2.23363144e-10,   6.96124846e-18,\n",
       "          1.55488634e-27],\n",
       "       [  1.55488634e-27,   6.96124846e-18,   2.23363144e-10,\n",
       "          5.13655312e-05,   8.46579886e-02,   1.00000000e+00,\n",
       "          8.46579886e-02,   5.13655312e-05,   2.23363144e-10,\n",
       "          6.96124846e-18],\n",
       "       [  2.48912125e-39,   1.55488634e-27,   6.96124846e-18,\n",
       "          2.23363144e-10,   5.13655312e-05,   8.46579886e-02,\n",
       "          1.00000000e+00,   8.46579886e-02,   5.13655312e-05,\n",
       "          2.23363144e-10],\n",
       "       [  2.85581026e-53,   2.48912125e-39,   1.55488634e-27,\n",
       "          6.96124846e-18,   2.23363144e-10,   5.13655312e-05,\n",
       "          8.46579886e-02,   1.00000000e+00,   8.46579886e-02,\n",
       "          5.13655312e-05],\n",
       "       [  2.34827275e-69,   2.85581026e-53,   2.48912125e-39,\n",
       "          1.55488634e-27,   6.96124846e-18,   2.23363144e-10,\n",
       "          5.13655312e-05,   8.46579886e-02,   1.00000000e+00,\n",
       "          8.46579886e-02],\n",
       "       [  1.38389653e-87,   2.34827275e-69,   2.85581026e-53,\n",
       "          2.48912125e-39,   1.55488634e-27,   6.96124846e-18,\n",
       "          2.23363144e-10,   5.13655312e-05,   8.46579886e-02,\n",
       "          1.00000000e+00]])"
      ]
     },
     "execution_count": 16,
     "metadata": {},
     "output_type": "execute_result"
    }
   ],
   "source": [
    "tmp"
   ]
  },
  {
   "cell_type": "code",
   "execution_count": null,
   "metadata": {
    "collapsed": true
   },
   "outputs": [],
   "source": []
  }
 ],
 "metadata": {
  "kernelspec": {
   "display_name": "Python 2",
   "language": "python",
   "name": "python2"
  },
  "language_info": {
   "codemirror_mode": {
    "name": "ipython",
    "version": 2
   },
   "file_extension": ".py",
   "mimetype": "text/x-python",
   "name": "python",
   "nbconvert_exporter": "python",
   "pygments_lexer": "ipython2",
   "version": "2.7.13"
  }
 },
 "nbformat": 4,
 "nbformat_minor": 2
}
