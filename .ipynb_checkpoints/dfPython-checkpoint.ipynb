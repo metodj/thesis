{
 "cells": [
  {
   "cell_type": "code",
   "execution_count": 94,
   "metadata": {
    "collapsed": false
   },
   "outputs": [],
   "source": [
    "import psycopg2, psycopg2.extensions, psycopg2.extras\n",
    "import numpy as np\n",
    "import matplotlib.pyplot as plt\n",
    "import pandas as pd\n",
    "import random"
   ]
  },
  {
   "cell_type": "markdown",
   "metadata": {},
   "source": [
    "# Uvoz podatkov"
   ]
  },
  {
   "cell_type": "code",
   "execution_count": 10,
   "metadata": {
    "collapsed": false
   },
   "outputs": [],
   "source": [
    "################\n",
    "#priklop na bazo\n",
    "psycopg2.extensions.register_type(psycopg2.extensions.UNICODE) # se znebimo problemov s sumniki\n",
    "baza = psycopg2.connect(database='sem2018_metodj', host='baza.fmf.uni-lj.si', user='metodj', password='gilbertarenas0')\n",
    "baza.set_isolation_level(psycopg2.extensions.ISOLATION_LEVEL_AUTOCOMMIT) \n",
    "cur = baza.cursor(cursor_factory=psycopg2.extras.DictCursor)"
   ]
  },
  {
   "cell_type": "code",
   "execution_count": 24,
   "metadata": {
    "collapsed": false
   },
   "outputs": [],
   "source": [
    "################\n",
    "#test priklopa na bazo\n",
    "def test(tmp):\n",
    "    cur.execute('''\n",
    "                    SELECT * FROM dftest \n",
    "                ''', [tmp])\n",
    "    return (cur.fetchall())\n",
    "\n",
    "#print(test('')[0])"
   ]
  },
  {
   "cell_type": "code",
   "execution_count": 26,
   "metadata": {
    "collapsed": false
   },
   "outputs": [
    {
     "data": {
      "text/html": [
       "<div>\n",
       "<style>\n",
       "    .dataframe thead tr:only-child th {\n",
       "        text-align: right;\n",
       "    }\n",
       "\n",
       "    .dataframe thead th {\n",
       "        text-align: left;\n",
       "    }\n",
       "\n",
       "    .dataframe tbody tr th {\n",
       "        vertical-align: top;\n",
       "    }\n",
       "</style>\n",
       "<table border=\"1\" class=\"dataframe\">\n",
       "  <thead>\n",
       "    <tr style=\"text-align: right;\">\n",
       "      <th></th>\n",
       "      <th>ime</th>\n",
       "      <th>plača</th>\n",
       "      <th>spol</th>\n",
       "      <th>višina</th>\n",
       "      <th>zveznaDržava</th>\n",
       "    </tr>\n",
       "  </thead>\n",
       "  <tbody>\n",
       "    <tr>\n",
       "      <th>0</th>\n",
       "      <td>Montague Goard</td>\n",
       "      <td>3650</td>\n",
       "      <td>M</td>\n",
       "      <td>1.73</td>\n",
       "      <td>TX</td>\n",
       "    </tr>\n",
       "    <tr>\n",
       "      <th>1</th>\n",
       "      <td>Danica Di Biaggi</td>\n",
       "      <td>4207</td>\n",
       "      <td>Ž</td>\n",
       "      <td>1.46</td>\n",
       "      <td>SC</td>\n",
       "    </tr>\n",
       "    <tr>\n",
       "      <th>2</th>\n",
       "      <td>Patsy Byre</td>\n",
       "      <td>3608</td>\n",
       "      <td>Ž</td>\n",
       "      <td>1.76</td>\n",
       "      <td>NV</td>\n",
       "    </tr>\n",
       "    <tr>\n",
       "      <th>3</th>\n",
       "      <td>Tobit Rolling</td>\n",
       "      <td>3490</td>\n",
       "      <td>M</td>\n",
       "      <td>1.74</td>\n",
       "      <td>OR</td>\n",
       "    </tr>\n",
       "    <tr>\n",
       "      <th>4</th>\n",
       "      <td>Herculie Dally</td>\n",
       "      <td>2294</td>\n",
       "      <td>M</td>\n",
       "      <td>1.89</td>\n",
       "      <td>MN</td>\n",
       "    </tr>\n",
       "  </tbody>\n",
       "</table>\n",
       "</div>"
      ],
      "text/plain": [
       "                ime  plača spol višina zveznaDržava\n",
       "0    Montague Goard   3650    M   1.73           TX\n",
       "1  Danica Di Biaggi   4207    Ž   1.46           SC\n",
       "2        Patsy Byre   3608    Ž   1.76           NV\n",
       "3     Tobit Rolling   3490    M   1.74           OR\n",
       "4    Herculie Dally   2294    M   1.89           MN"
      ]
     },
     "execution_count": 26,
     "metadata": {},
     "output_type": "execute_result"
    }
   ],
   "source": [
    "################\n",
    "#preprocessing\n",
    "data = test('')\n",
    "baza = []\n",
    "for i in range(len(data)):\n",
    "    tmp = dict()\n",
    "    tmp['ime'] = data[i][0]\n",
    "    tmp['spol'] =  data[i][1]\n",
    "    tmp['zveznaDržava'] = data[i][2]\n",
    "    tmp['višina'] = data[i][3]\n",
    "    tmp['plača'] = data[i][4]\n",
    "    baza.append(tmp)\n",
    "\n",
    "data = pd.DataFrame(baza)\n",
    "data['spol'] = np.where(data['spol']=='Male', 'M', 'Ž')\n",
    "data.head()"
   ]
  },
  {
   "cell_type": "markdown",
   "metadata": {},
   "source": [
    "# Laplacov mehanizem za numerične podatke (perturbacija podatkovne baze)"
   ]
  },
  {
   "cell_type": "code",
   "execution_count": 30,
   "metadata": {
    "collapsed": false
   },
   "outputs": [],
   "source": [
    "#izracun diametra (preveri veljavnost!!)\n",
    "def diameter(data):\n",
    "    return max(abs(x[0] - x[1]) for x in zip(data[1:], data))"
   ]
  },
  {
   "cell_type": "code",
   "execution_count": 149,
   "metadata": {
    "collapsed": false
   },
   "outputs": [],
   "source": [
    "#nastavi 'plača' ali 'višina'\n",
    "podatki= list(float(i) for i in data['plača'])\n",
    "epsilon = 1\n",
    "delta = 0.5\n",
    "b = diameter(podatki)/(epsilon - np.log(1-delta))\n",
    "\n",
    "df_podatki = map(lambda elem: round(elem + np.random.laplace(0,b),2), podatki)"
   ]
  },
  {
   "cell_type": "code",
   "execution_count": 150,
   "metadata": {
    "collapsed": false
   },
   "outputs": [
    {
     "name": "stdout",
     "output_type": "stream",
     "text": [
      "[3650.0, 4207.0, 3608.0, 3490.0, 2294.0]\n",
      "[3733.51, 6599.02, 4698.46, -1064.67, -1893.68]\n",
      "2868.0\n",
      "1693.88700104\n"
     ]
    }
   ],
   "source": [
    "#osnovna primerjava\n",
    "print(podatki[:5])\n",
    "print(df_podatki[:5])\n",
    "print(diameter(podatki))\n",
    "print(b)"
   ]
  },
  {
   "cell_type": "code",
   "execution_count": 151,
   "metadata": {
    "collapsed": false
   },
   "outputs": [
    {
     "name": "stdout",
     "output_type": "stream",
     "text": [
      "2995.072\n",
      "3151.22206\n",
      "(4500.0, 1504.0)\n",
      "(14881.6, -8081.19)\n"
     ]
    }
   ],
   "source": [
    "#poračunanih nekaj osnovnih statistik za primerjavo\n",
    "print(sum(podatki)/len(podatki))\n",
    "print(sum(df_podatki)/len(df_podatki))\n",
    "print(max(podatki), min(podatki))\n",
    "print(max(df_podatki), min(df_podatki))\n",
    "\n",
    "#poglej še povprečje ženski moški"
   ]
  },
  {
   "cell_type": "code",
   "execution_count": 152,
   "metadata": {
    "collapsed": false
   },
   "outputs": [
    {
     "data": {
      "text/plain": [
       "192.8309991222865"
      ]
     },
     "execution_count": 152,
     "metadata": {},
     "output_type": "execute_result"
    }
   ],
   "source": [
    "#spodnja meja za največjo napako (izrek 5.3)\n",
    "spodnja_meja = (1-delta)*diameter(podatki)/(2*(1+np.exp(epsilon)))\n",
    "spodnja_meja"
   ]
  },
  {
   "cell_type": "code",
   "execution_count": 55,
   "metadata": {
    "collapsed": false
   },
   "outputs": [
    {
     "data": {
      "image/png": "[encoded data removed]",
      "text/plain": [
       "<matplotlib.figure.Figure at 0xbf9dfd0>"
      ]
     },
     "metadata": {},
     "output_type": "display_data"
    }
   ],
   "source": [
    "%matplotlib inline\n",
    "plt.hist(podatki, normed=True, bins=20);"
   ]
  },
  {
   "cell_type": "code",
   "execution_count": 56,
   "metadata": {
    "collapsed": false
   },
   "outputs": [
    {
     "data": {
      "image/png": "[encoded data removed]",
      "text/plain": [
       "<matplotlib.figure.Figure at 0xbf3af28>"
      ]
     },
     "metadata": {},
     "output_type": "display_data"
    }
   ],
   "source": [
    "plt.hist(df_podatki, normed=True, bins=20);"
   ]
  },
  {
   "cell_type": "markdown",
   "metadata": {},
   "source": [
    "# Mehanizem za diskretne podatke (perturbacija podatkovne baze)"
   ]
  },
  {
   "cell_type": "code",
   "execution_count": 140,
   "metadata": {
    "collapsed": true
   },
   "outputs": [],
   "source": [
    "epsilon2 = 2\n",
    "delta2 = 0.5"
   ]
  },
  {
   "cell_type": "code",
   "execution_count": 141,
   "metadata": {
    "collapsed": false
   },
   "outputs": [
    {
     "name": "stdout",
     "output_type": "stream",
     "text": [
      "0.00919302587437\n",
      "0.567927783905\n"
     ]
    }
   ],
   "source": [
    "#zvezne države\n",
    "\n",
    "m = 47 # |D| = 48, torej imamo v bazi 48 različnih zveznih držav\n",
    "p = (1 - delta2) / (m + np.exp(epsilon2))\n",
    "\n",
    "print(p)\n",
    "print(1-p*m)\n",
    "\n",
    "drzave = list(str(i) for i in data['zveznaDržava'])\n",
    "seznam_drzav = list(set(drzave))\n",
    "\n",
    "df_drzave = []\n",
    "for i in range(len(drzave)):\n",
    "    if np.random.uniform(0,1) < (1-p*m):\n",
    "        df_drzave.append(drzave[i])\n",
    "    else:\n",
    "        tmp = list(seznam_drzav)\n",
    "        tmp.remove(drzave[i])\n",
    "        df_drzave.append(random.choice(tmp))"
   ]
  },
  {
   "cell_type": "code",
   "execution_count": 142,
   "metadata": {
    "collapsed": false
   },
   "outputs": [
    {
     "name": "stdout",
     "output_type": "stream",
     "text": [
      "['TX', 'SC', 'NV', 'OR', 'MN', 'MO', 'WA', 'NC', 'UT', 'MN']\n",
      "['TX', 'SC', 'NV', 'OR', 'MN', 'MO', 'IL', 'NC', 'UT', 'MN']\n"
     ]
    }
   ],
   "source": [
    "#osnovna primerjava\n",
    "print(drzave[:10])\n",
    "print(df_drzave[:10])"
   ]
  },
  {
   "cell_type": "code",
   "execution_count": 143,
   "metadata": {
    "collapsed": false
   },
   "outputs": [
    {
     "name": "stdout",
     "output_type": "stream",
     "text": [
      "TX\n",
      "TX\n"
     ]
    }
   ],
   "source": [
    "#poračunanih nekaj osnovnih statistik za primerjavo\n",
    "def most_common(lst):\n",
    "    return max(set(lst), key=lst.count)\n",
    "\n",
    "print(most_common(drzave))\n",
    "print(most_common(df_drzave))"
   ]
  },
  {
   "cell_type": "code",
   "execution_count": 144,
   "metadata": {
    "collapsed": false
   },
   "outputs": [
    {
     "data": {
      "text/plain": [
       "0.43207221609536328"
      ]
     },
     "execution_count": 144,
     "metadata": {},
     "output_type": "execute_result"
    }
   ],
   "source": [
    "#spodnja meja za največjo napako (izrek 5.4)\n",
    "spodnja_meja = (1-delta2)*m/(m+np.exp(epsilon2))\n",
    "spodnja_meja"
   ]
  },
  {
   "cell_type": "code",
   "execution_count": 145,
   "metadata": {
    "collapsed": false
   },
   "outputs": [
    {
     "name": "stdout",
     "output_type": "stream",
     "text": [
      "398\n"
     ]
    }
   ],
   "source": [
    "counter = 0\n",
    "for i in range(len(drzave)):\n",
    "    if drzave[i] != df_drzave[i]:\n",
    "        counter += 1;\n",
    "\n",
    "print(counter)"
   ]
  },
  {
   "cell_type": "code",
   "execution_count": 146,
   "metadata": {
    "collapsed": false
   },
   "outputs": [
    {
     "name": "stdout",
     "output_type": "stream",
     "text": [
      "0.0596014610111\n",
      "0.940398538989\n"
     ]
    }
   ],
   "source": [
    "#spol (enostaven primer, naš odzivni mehanizem bo kar Bernoullijeva slučanja spremenljivka)\n",
    "\n",
    "m = 1 # |D| = 2, moški in ženski spol\n",
    "p = (1 - delta2) / (m + np.exp(epsilon2))\n",
    "\n",
    "print(p)\n",
    "print(1-p*m)"
   ]
  },
  {
   "cell_type": "markdown",
   "metadata": {},
   "source": [
    "# Primer funkcijskih podatkov - kernel density estimation"
   ]
  },
  {
   "cell_type": "code",
   "execution_count": 84,
   "metadata": {
    "collapsed": false
   },
   "outputs": [
    {
     "data": {
      "image/png": "[encoded data removed]",
      "text/plain": [
       "<matplotlib.figure.Figure at 0x1247ef98>"
      ]
     },
     "metadata": {},
     "output_type": "display_data"
    }
   ],
   "source": [
    "seznam = [numpy.random.normal(0.3,0.5) for _ in range(100)] #+ [numpy.random.normal(0.7,1) for _ in range(50)]\n",
    "\n",
    "def tmp(x,):\n",
    "    return x\n",
    "\n",
    "def f(x, h=0.1,d=1):\n",
    "    return (1/(len(seznam)*(2*np.pi*h**2)**(d*0.5)))*sum(map(lambda elem: np.exp(-((elem-x)**2)/(2*h**2)),seznam))\n",
    "\n",
    "f(0.3)\n",
    "\n",
    "t1 = np.arange(0, 1,0.001)\n",
    "\n",
    "plt.plot(t1, f(t1), 'k')\n",
    "\n",
    "plt.show()"
   ]
  },
  {
   "cell_type": "code",
   "execution_count": 75,
   "metadata": {
    "collapsed": false
   },
   "outputs": [
    {
     "name": "stdout",
     "output_type": "stream",
     "text": [
      "[2.2995011027979304, -1.6692570326003957]\n",
      "[1.9211517864265509e-96, 1.3369279017133246e-76]\n"
     ]
    }
   ],
   "source": [
    "print(seznam[:2])\n",
    "print(map(lambda elem: np.exp(-((elem-0.2)**2)/(2*h**2)),seznam)[:2])"
   ]
  },
  {
   "cell_type": "code",
   "execution_count": 63,
   "metadata": {
    "collapsed": false
   },
   "outputs": [
    {
     "data": {
      "text/plain": [
       "5.2554870187714282e-20"
      ]
     },
     "execution_count": 63,
     "metadata": {},
     "output_type": "execute_result"
    }
   ],
   "source": [
    "np.exp(-((seznam[0]-0.2)**2)/(2*h**2))"
   ]
  },
  {
   "cell_type": "markdown",
   "metadata": {},
   "source": [
    "# Delovna verzija"
   ]
  },
  {
   "cell_type": "code",
   "execution_count": 56,
   "metadata": {
    "collapsed": false
   },
   "outputs": [
    {
     "data": {
      "image/png": "[encoded data removed]",
      "text/plain": [
       "<matplotlib.figure.Figure at 0x7ef9780>"
      ]
     },
     "metadata": {},
     "output_type": "display_data"
    }
   ],
   "source": [
    "import numpy as np\n",
    "import matplotlib.pyplot as plt\n",
    "\n",
    "def f(x):\n",
    "    return np.exp(-abs(x)/b) / (2*b)\n",
    "\n",
    "t1 = np.arange(-10, 10.0, 0.001)\n",
    "\n",
    "\n",
    "plt.figure(1)\n",
    "plt.subplot(211)\n",
    "plt.plot(t1, f(t1), 'k')\n",
    "\n",
    "plt.show()"
   ]
  },
  {
   "cell_type": "code",
   "execution_count": null,
   "metadata": {
    "collapsed": true
   },
   "outputs": [],
   "source": []
  },
  {
   "cell_type": "code",
   "execution_count": null,
   "metadata": {
    "collapsed": true
   },
   "outputs": [],
   "source": []
  }
 ],
 "metadata": {
  "kernelspec": {
   "display_name": "Python 2",
   "language": "python",
   "name": "python2"
  },
  "language_info": {
   "codemirror_mode": {
    "name": "ipython",
    "version": 2
   },
   "file_extension": ".py",
   "mimetype": "text/x-python",
   "name": "python",
   "nbconvert_exporter": "python",
   "pygments_lexer": "ipython2",
   "version": "2.7.13"
  }
 },
 "nbformat": 4,
 "nbformat_minor": 2
}
